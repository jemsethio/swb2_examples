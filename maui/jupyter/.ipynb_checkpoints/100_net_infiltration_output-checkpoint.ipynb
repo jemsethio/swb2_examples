{
 "cells": [
  {
   "cell_type": "code",
   "execution_count": null,
   "metadata": {
    "collapsed": true
   },
   "outputs": [],
   "source": [
    "import os\n",
    "import numpy as np\n",
    "import numpy.ma as ma\n",
    "import pandas as pd\n",
    "import gdal\n",
    "import netCDF4 as nc\n",
    "\n",
    "%run ../../COMMON/plot_and_table_functions.py"
   ]
  },
  {
   "cell_type": "code",
   "execution_count": null,
   "metadata": {
    "collapsed": true
   },
   "outputs": [],
   "source": [
    "def create_file_reference( component_name ):\n",
    "    '''\n",
    "    This is a simple convenience function that will form a path and filename to a\n",
    "    given water budget component\n",
    "    '''\n",
    "    # specify the prefix, path to SWB2 output, timeframe, and resolution\n",
    "    output_path = '../output/'\n",
    "    prefix      = 'maui_'\n",
    "    start_year  = '2001'\n",
    "    end_year    = '2002'\n",
    "    ncol        = '316'\n",
    "    nrow        = '210'\n",
    "    return( output_path + prefix + component_name + '_' + start_year + '_' \n",
    "          + end_year + '__' + nrow + '_by_' + ncol + '.nc' )"
   ]
  }
 ],
 "metadata": {
  "kernelspec": {
   "display_name": "Python 3",
   "language": "python",
   "name": "python3"
  },
  "language_info": {
   "codemirror_mode": {
    "name": "ipython",
    "version": 3
   },
   "file_extension": ".py",
   "mimetype": "text/x-python",
   "name": "python",
   "nbconvert_exporter": "python",
   "pygments_lexer": "ipython3",
   "version": "3.5.3"
  }
 },
 "nbformat": 4,
 "nbformat_minor": 2
}
