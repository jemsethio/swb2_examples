{
 "cells": [
  {
   "cell_type": "markdown",
   "metadata": {},
   "source": [
    "# Curve number assignments"
   ]
  },
  {
   "cell_type": "code",
   "execution_count": 19,
   "metadata": {},
   "outputs": [],
   "source": [
    "import os\n",
    "import numpy as np\n",
    "import pandas as pd\n",
    "import gdal\n",
    "\n",
    "%run plot_and_table_functions.py\n",
    "\n",
    "lu_lookup_fname  = '../std_input/Landuse_lookup_CDL.txt'\n",
    "irr_lookup_fname = '../std_input/Irrigation_lookup_CDL.txt'\n",
    "lu_grid_fname    = '../input/landuse.asc'"
   ]
  },
  {
   "cell_type": "code",
   "execution_count": 20,
   "metadata": {},
   "outputs": [],
   "source": [
    "lu_lookup  = pd.read_table( lu_lookup_fname )\n",
    "irr_lookup = pd.read_table( irr_lookup_fname )\n",
    "lu_grid    = gdal.Open( lu_grid_fname )"
   ]
  },
  {
   "cell_type": "markdown",
   "metadata": {},
   "source": [
    "## Curve Number \"aligner\" Equations"
   ]
  },
  {
   "cell_type": "markdown",
   "metadata": {},
   "source": [
    "It is generally a good idea to maintain some degree of structure between the curve numbers used for the various soils groups. In SWB, the soils groups are simply numbered, starting with 1, and can represent any arbitrary grouping of soils. It is convenient to assume that hydrologic soils groups are represented by table values of 1, 2, 3, and 4, respectively.\n",
    "\n",
    "Several authors have published equations or plots that show the relationship between the curve number for B, C, and D soils given the value for an A soil. One implementation of these \"curve number aligners\" are defined as functions below."
   ]
  },
  {
   "cell_type": "code",
   "execution_count": 61,
   "metadata": {
    "collapsed": true
   },
   "outputs": [],
   "source": [
    "def curve_number_aligner__B( CN_A ):\n",
    "    \"\"\"\n",
    "    Convert a curve number value defined for hydrologic soil group 'A'\n",
    "    to a curve number defined for hydrologic soil group 'B',\n",
    "    from Table 5, Curve Number Hydrology, 2009, ASCE.\n",
    "    \"\"\"\n",
    "    return( 0.622 * CN_A + 37.8 )\n",
    "\n",
    "def curve_number_aligner__C( CN_A ):\n",
    "    \"\"\"\n",
    "    Convert a curve number value defined for hydrologic soil group 'A'\n",
    "    to a curve number defined for hydrologic soil group 'C'\n",
    "    from Table 5, Curve Number Hydrology, 2009, ASCE.    \n",
    "    \"\"\"\n",
    "    return( 0.411 * CN_A + 58.9 )\n",
    "\n",
    "def curve_number_aligner__D( CN_A ):\n",
    "    \"\"\"\n",
    "    Convert a curve number value defined for hydrologic soil group 'A'\n",
    "    to a curve number defined for hydrologic soil group 'D'\n",
    "    from Table 5, Curve Number Hydrology, 2009, ASCE.    \n",
    "    \"\"\"\n",
    "    return( 0.328 * CN_A + 67.2 )"
   ]
  },
  {
   "cell_type": "markdown",
   "metadata": {},
   "source": [
    "In this example, the hydrologic soils group 'A' is listed in the lookup table as soil group '1'; curve numbers are defined in the landuse lookup tables for groups A, B, C, and D as CN_1, CN_2, CN_3, and CN_4, respectively."
   ]
  },
  {
   "cell_type": "code",
   "execution_count": 64,
   "metadata": {},
   "outputs": [
    {
     "data": {
      "text/html": [
       "<div>\n",
       "<table border=\"1\" class=\"dataframe\">\n",
       "  <thead>\n",
       "    <tr style=\"text-align: right;\">\n",
       "      <th></th>\n",
       "      <th>LU_Code</th>\n",
       "      <th>Description</th>\n",
       "      <th>CN_1</th>\n",
       "    </tr>\n",
       "  </thead>\n",
       "  <tbody>\n",
       "    <tr>\n",
       "      <th>2</th>\n",
       "      <td>5</td>\n",
       "      <td>Soybeans</td>\n",
       "      <td>67</td>\n",
       "    </tr>\n",
       "    <tr>\n",
       "      <th>3</th>\n",
       "      <td>6</td>\n",
       "      <td>Sunflowers</td>\n",
       "      <td>61</td>\n",
       "    </tr>\n",
       "    <tr>\n",
       "      <th>4</th>\n",
       "      <td>12</td>\n",
       "      <td>Sweet Corn</td>\n",
       "      <td>65</td>\n",
       "    </tr>\n",
       "    <tr>\n",
       "      <th>5</th>\n",
       "      <td>21</td>\n",
       "      <td>Barley</td>\n",
       "      <td>30</td>\n",
       "    </tr>\n",
       "    <tr>\n",
       "      <th>6</th>\n",
       "      <td>23</td>\n",
       "      <td>Spring Wheat</td>\n",
       "      <td>30</td>\n",
       "    </tr>\n",
       "    <tr>\n",
       "      <th>7</th>\n",
       "      <td>24</td>\n",
       "      <td>Winter Wheat</td>\n",
       "      <td>30</td>\n",
       "    </tr>\n",
       "  </tbody>\n",
       "</table>\n",
       "</div>"
      ],
      "text/plain": [
       "   LU_Code    Description  CN_1\n",
       "2        5       Soybeans    67\n",
       "3        6     Sunflowers    61\n",
       "4       12     Sweet Corn    65\n",
       "5       21         Barley    30\n",
       "6       23   Spring Wheat    30\n",
       "7       24   Winter Wheat    30"
      ]
     },
     "execution_count": 64,
     "metadata": {},
     "output_type": "execute_result"
    }
   ],
   "source": [
    "lu_lookup[['LU_Code','Description','CN_1']].ix[2:7]"
   ]
  },
  {
   "cell_type": "markdown",
   "metadata": {},
   "source": [
    "### Calculate curve numbers for B, C, and D soils given curve numbers for A soils."
   ]
  },
  {
   "cell_type": "code",
   "execution_count": 65,
   "metadata": {},
   "outputs": [
    {
     "data": {
      "text/html": [
       "<div>\n",
       "<table border=\"1\" class=\"dataframe\">\n",
       "  <thead>\n",
       "    <tr style=\"text-align: right;\">\n",
       "      <th></th>\n",
       "      <th>LU_Code</th>\n",
       "      <th>Description</th>\n",
       "      <th>CN_1</th>\n",
       "      <th>CN_2</th>\n",
       "      <th>CN_3</th>\n",
       "      <th>CN_4</th>\n",
       "    </tr>\n",
       "  </thead>\n",
       "  <tbody>\n",
       "    <tr>\n",
       "      <th>2</th>\n",
       "      <td>5</td>\n",
       "      <td>Soybeans</td>\n",
       "      <td>67</td>\n",
       "      <td>79.474</td>\n",
       "      <td>86.437</td>\n",
       "      <td>89.176</td>\n",
       "    </tr>\n",
       "    <tr>\n",
       "      <th>3</th>\n",
       "      <td>6</td>\n",
       "      <td>Sunflowers</td>\n",
       "      <td>61</td>\n",
       "      <td>75.742</td>\n",
       "      <td>83.971</td>\n",
       "      <td>87.208</td>\n",
       "    </tr>\n",
       "    <tr>\n",
       "      <th>4</th>\n",
       "      <td>12</td>\n",
       "      <td>Sweet Corn</td>\n",
       "      <td>65</td>\n",
       "      <td>78.230</td>\n",
       "      <td>85.615</td>\n",
       "      <td>88.520</td>\n",
       "    </tr>\n",
       "    <tr>\n",
       "      <th>5</th>\n",
       "      <td>21</td>\n",
       "      <td>Barley</td>\n",
       "      <td>30</td>\n",
       "      <td>56.460</td>\n",
       "      <td>71.230</td>\n",
       "      <td>77.040</td>\n",
       "    </tr>\n",
       "    <tr>\n",
       "      <th>6</th>\n",
       "      <td>23</td>\n",
       "      <td>Spring Wheat</td>\n",
       "      <td>30</td>\n",
       "      <td>56.460</td>\n",
       "      <td>71.230</td>\n",
       "      <td>77.040</td>\n",
       "    </tr>\n",
       "    <tr>\n",
       "      <th>7</th>\n",
       "      <td>24</td>\n",
       "      <td>Winter Wheat</td>\n",
       "      <td>30</td>\n",
       "      <td>56.460</td>\n",
       "      <td>71.230</td>\n",
       "      <td>77.040</td>\n",
       "    </tr>\n",
       "  </tbody>\n",
       "</table>\n",
       "</div>"
      ],
      "text/plain": [
       "   LU_Code    Description  CN_1    CN_2    CN_3    CN_4\n",
       "2        5       Soybeans    67  79.474  86.437  89.176\n",
       "3        6     Sunflowers    61  75.742  83.971  87.208\n",
       "4       12     Sweet Corn    65  78.230  85.615  88.520\n",
       "5       21         Barley    30  56.460  71.230  77.040\n",
       "6       23   Spring Wheat    30  56.460  71.230  77.040\n",
       "7       24   Winter Wheat    30  56.460  71.230  77.040"
      ]
     },
     "execution_count": 65,
     "metadata": {},
     "output_type": "execute_result"
    }
   ],
   "source": [
    "lu_lookup['CN_2'] = curve_number_aligner__B( lu_lookup[['CN_1']] )\n",
    "lu_lookup['CN_3'] = curve_number_aligner__C( lu_lookup[['CN_1']] )\n",
    "lu_lookup['CN_4'] = curve_number_aligner__D( lu_lookup[['CN_1']] )\n",
    "lu_lookup[['LU_Code','Description','CN_1','CN_2','CN_3','CN_4']].ix[2:7]"
   ]
  },
  {
   "cell_type": "markdown",
   "metadata": {},
   "source": [
    "### Write modified table back to disk"
   ]
  },
  {
   "cell_type": "code",
   "execution_count": 63,
   "metadata": {
    "collapsed": true
   },
   "outputs": [],
   "source": [
    "lu_lookup.to_csv( '../std_input/landuse_modified.txt', sep='\\t' )"
   ]
  }
 ],
 "metadata": {
  "kernelspec": {
   "display_name": "Python 2",
   "language": "python",
   "name": "python2"
  },
  "language_info": {
   "codemirror_mode": {
    "name": "ipython",
    "version": 2
   },
   "file_extension": ".py",
   "mimetype": "text/x-python",
   "name": "python",
   "nbconvert_exporter": "python",
   "pygments_lexer": "ipython2",
   "version": "2.7.13"
  }
 },
 "nbformat": 4,
 "nbformat_minor": 2
}
