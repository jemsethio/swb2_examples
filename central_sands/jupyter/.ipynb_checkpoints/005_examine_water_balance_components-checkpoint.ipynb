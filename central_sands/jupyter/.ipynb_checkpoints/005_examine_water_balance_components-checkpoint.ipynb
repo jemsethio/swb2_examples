{
 "cells": [
  {
   "cell_type": "markdown",
   "metadata": {},
   "source": [
    "# Examining the water balance components"
   ]
  },
  {
   "cell_type": "code",
   "execution_count": 1,
   "metadata": {},
   "outputs": [],
   "source": [
    "import os\n",
    "import numpy as np\n",
    "import numpy.ma as ma\n",
    "import pandas as pd\n",
    "import gdal\n",
    "import netCDF4 as nc\n",
    "\n",
    "%run plot_and_table_functions.py"
   ]
  },
  {
   "cell_type": "markdown",
   "metadata": {},
   "source": [
    "This notebook uses techniques that may not scale up well to larger problems; specifically, this this may fail with more timesteps or larger grids owing the fact that grids for *all* simulation days and *all* gridcells are read into memory. However, this technique is convenient for showing the contents of the various output grids and for performing simple manipulations of those grids. Users who develop better techniques are encouraged to contact the authors so that we might share them with other SWB 2.0 users."
   ]
  },
  {
   "cell_type": "code",
   "execution_count": 2,
   "metadata": {},
   "outputs": [],
   "source": [
    "def create_file_reference( component_name ):\n",
    "    '''\n",
    "    This is a simple convenience function that will form a path and filename to a\n",
    "    given water budget component\n",
    "    '''\n",
    "    # specify the prefix, path to SWB2 output, timeframe, and resolution\n",
    "    output_path = '../output/'\n",
    "    prefix      = 'central_sands_'\n",
    "    start_year  = '2012'\n",
    "    end_year    = '2013'\n",
    "    ncol        = '400'\n",
    "    nrow        = '346'\n",
    "    return( output_path + prefix + component_name + '_' + start_year + '_' \n",
    "          + end_year + '__' + nrow + '_by_' + ncol + '.nc' )"
   ]
  },
  {
   "cell_type": "markdown",
   "metadata": {},
   "source": [
    "SWB version 2.0 currently writes all components of the water balance to NetCDF files. Each water balance component is written to a separate file.\n",
    "\n",
    "    output/central_sands_actual_et_2012_2013__150_by_300.nc\n",
    "    output/central_sands_crop_et_2012_2013__150_by_300.nc\n",
    "    output/central_sands_gdd_2012_2013__150_by_300.nc\n",
    "    output/central_sands_gross_precipitation_2012_2013__150_by_300.nc\n",
    "    output/central_sands_infiltration_2012_2013__150_by_300.nc\n",
    "    output/central_sands_interception_2012_2013__150_by_300.nc\n",
    "    output/central_sands_irrigation_2012_2013__150_by_300.nc\n",
    "    output/central_sands_net_infiltration_2012_2013__150_by_300.nc\n",
    "    output/central_sands_rainfall_2012_2013__150_by_300.nc\n",
    "    output/central_sands_reference_ET0_2012_2013__150_by_300.nc\n",
    "    output/central_sands_rejected_net_infiltration_2012_2013__150_by_300.nc\n",
    "    output/central_sands_runoff_2012_2013__150_by_300.nc\n",
    "    output/central_sands_runoff_outside_2012_2013__150_by_300.nc\n",
    "    output/central_sands_runon_2012_2013__150_by_300.nc\n",
    "    output/central_sands_snow_storage_2012_2013__150_by_300.nc\n",
    "    output/central_sands_snowfall_2012_2013__150_by_300.nc\n",
    "    output/central_sands_snowmelt_2012_2013__150_by_300.nc\n",
    "    output/central_sands_soil_storage_2012_2013__150_by_300.nc\n",
    "    output/central_sands_delta_soil_storage_2012_2013__150_by_300.nc\n",
    "    output/central_sands_tmax_2012_2013__150_by_300.nc\n",
    "    output/central_sands_tmin_2012_2013__150_by_300.nc"
   ]
  },
  {
   "cell_type": "code",
   "execution_count": 3,
   "metadata": {},
   "outputs": [
    {
     "ename": "NameError",
     "evalue": "name 'gdal' is not defined",
     "output_type": "error",
     "traceback": [
      "\u001b[0;31m---------------------------------------------------------------------------\u001b[0m",
      "\u001b[0;31mNameError\u001b[0m                                 Traceback (most recent call last)",
      "\u001b[0;32m<ipython-input-3-a2adbd0e8086>\u001b[0m in \u001b[0;36m<module>\u001b[0;34m()\u001b[0m\n\u001b[1;32m      1\u001b[0m \u001b[0mfname_lu\u001b[0m \u001b[0;34m=\u001b[0m \u001b[0;34m'../output/Landuse_land_cover__as_read_into_SWB.asc'\u001b[0m\u001b[0;34m\u001b[0m\u001b[0m\n\u001b[0;32m----> 2\u001b[0;31m \u001b[0mdataset_lu\u001b[0m \u001b[0;34m=\u001b[0m \u001b[0mgdal\u001b[0m\u001b[0;34m.\u001b[0m\u001b[0mOpen\u001b[0m\u001b[0;34m(\u001b[0m \u001b[0mfname_lu\u001b[0m \u001b[0;34m)\u001b[0m\u001b[0;34m\u001b[0m\u001b[0m\n\u001b[0m\u001b[1;32m      3\u001b[0m \u001b[0;32mif\u001b[0m \u001b[0mdataset_lu\u001b[0m \u001b[0;32mis\u001b[0m \u001b[0;32mNone\u001b[0m\u001b[0;34m:\u001b[0m\u001b[0;34m\u001b[0m\u001b[0m\n\u001b[1;32m      4\u001b[0m     \u001b[0mprint\u001b[0m\u001b[0;34m(\u001b[0m\u001b[0;34m'Could not open landuse grid'\u001b[0m\u001b[0;34m)\u001b[0m\u001b[0;34m\u001b[0m\u001b[0m\n\u001b[1;32m      5\u001b[0m     \u001b[0mquit\u001b[0m\u001b[0;34m\u001b[0m\u001b[0m\n",
      "\u001b[0;31mNameError\u001b[0m: name 'gdal' is not defined"
     ]
    }
   ],
   "source": [
    "fname_lu = '../output/Landuse_land_cover__as_read_into_SWB.asc'\n",
    "dataset_lu = gdal.Open( fname_lu )\n",
    "if dataset_lu is None:\n",
    "    print('Could not open landuse grid')\n",
    "    quit\n",
    "lu = dataset_lu.ReadAsArray()\n",
    "lu = ma.masked_where( lu <= 0, lu )\n",
    "lu_vals=np.unique( lu.flatten() )\n",
    "\n",
    "# Define the pathname to the SWB landuse lookup table\n",
    "fname_lu_table = '../std_input/Landuse_lookup_CDL.txt'    \n",
    "lu_table = pd.read_table( fname_lu_table )    "
   ]
  },
  {
   "cell_type": "code",
   "execution_count": null,
   "metadata": {},
   "outputs": [],
   "source": [
    "net_infil           = nc.Dataset( create_file_reference( 'net_infiltration' ) )\n",
    "irrigation          = nc.Dataset( create_file_reference( 'irrigation' ) )\n",
    "rainfall            = nc.Dataset( create_file_reference( 'rainfall') )\n",
    "runoff              = nc.Dataset( create_file_reference( 'runoff' ) )\n",
    "runon               = nc.Dataset( create_file_reference( 'runon' ) )\n",
    "runoff_outside      = nc.Dataset( create_file_reference( 'runoff_outside' ) )\n",
    "snowmelt            = nc.Dataset( create_file_reference( 'snowmelt') )\n",
    "actual_et           = nc.Dataset( create_file_reference( 'actual_et') )\n",
    "soil_moisture       = nc.Dataset( create_file_reference( 'soil_storage') )\n",
    "delta_soil_moisture = nc.Dataset( create_file_reference( 'delta_soil_storage') )\n",
    "interception        = nc.Dataset( create_file_reference( 'interception') )\n",
    "\n",
    "rejected_net_infiltration  = nc.Dataset( create_file_reference( 'rejected_net_infiltration') )"
   ]
  },
  {
   "cell_type": "code",
   "execution_count": null,
   "metadata": {},
   "outputs": [],
   "source": [
    "net_infil_vals_nc  = net_infil.variables[ 'net_infiltration' ]\n",
    "irrigation_vals_nc = irrigation.variables[ 'irrigation' ]\n",
    "rainfall_vals_nc   = rainfall.variables[ 'rainfall' ]\n",
    "runoff_vals_nc     = runoff.variables[ 'runoff' ]\n",
    "runon_vals_nc      = runon.variables[ 'runon' ]\n",
    "runoff_outside_vals_nc     = runoff_outside.variables[ 'runoff_outside' ]\n",
    "snowmelt_vals_nc   = snowmelt.variables[ 'snowmelt' ]\n",
    "actual_et_vals_nc  = actual_et.variables[ 'actual_et' ]\n",
    "soil_moist_vals_nc = soil_moisture.variables[ 'soil_storage' ]\n",
    "delta_soil_moist_vals_nc = delta_soil_moisture.variables[ 'delta_soil_storage' ]\n",
    "interception_vals_nc = interception.variables[ 'interception' ]\n",
    "\n",
    "rejected_net_infil_vals_nc = rejected_net_infiltration.variables[ 'rejected_net_infiltration' ]\n",
    "\n",
    "x_vals_nc          = net_infil.variables[ 'x' ]\n",
    "y_vals_nc          = net_infil.variables[ 'y' ]"
   ]
  },
  {
   "cell_type": "markdown",
   "metadata": {},
   "source": [
    "The variable 'net_infil_vals_nc' now contains all of the daily values written by SWB 2.0 for the 'net_infiltration' variable. 'x_vals_nc' and 'y_vals_nc' contain the projected x and y coordinates associated with the 'net_infiltration' grid output. Some basic information about this variable may be obtained by entering the variable name at the command line."
   ]
  },
  {
   "cell_type": "code",
   "execution_count": null,
   "metadata": {},
   "outputs": [],
   "source": [
    "# create a numpy masked array from the netcdf variable values\n",
    "net_infil_vals    = ma.masked_where( np.isnan( net_infil_vals_nc ), net_infil_vals_nc ) \n",
    "irrigation_vals   = ma.masked_where( np.isnan( irrigation_vals_nc ), irrigation_vals_nc ) \n",
    "rainfall_vals     = ma.masked_where( np.isnan( rainfall_vals_nc ), rainfall_vals_nc ) \n",
    "runoff_vals       = ma.masked_where( np.isnan( runoff_vals_nc ), runoff_vals_nc ) \n",
    "runon_vals        = ma.masked_where( np.isnan( runon_vals_nc ), runon_vals_nc ) \n",
    "snowmelt_vals     = ma.masked_where( np.isnan( snowmelt_vals_nc ), snowmelt_vals_nc ) \n",
    "actual_et_vals    = ma.masked_where( np.isnan( actual_et_vals_nc ), actual_et_vals_nc ) \n",
    "interception_vals = ma.masked_where( np.isnan( interception_vals_nc ), interception_vals_nc ) \n",
    "runoff_outside_vals    = ma.masked_where( np.isnan( runoff_outside_vals_nc ), runoff_outside_vals_nc )\n",
    "delta_soil_moist_vals  = ma.masked_where( np.isnan( delta_soil_moist_vals_nc ), delta_soil_moist_vals_nc )\n",
    "soil_moist_vals   = ma.masked_where( np.isnan( soil_moist_vals_nc ), soil_moist_vals_nc ) \n",
    "\n",
    "rejected_net_infil_vals   = ma.masked_where( np.isnan( rejected_net_infil_vals_nc ), rejected_net_infil_vals_nc ) \n",
    "\n",
    "x_vals = np.array( x_vals_nc )\n",
    "y_vals = np.array( y_vals_nc )"
   ]
  },
  {
   "cell_type": "markdown",
   "metadata": {},
   "source": [
    "On a cell-by-cell basis, the mass balance may be written:\n",
    "\n",
    "$$\\theta_{t} = \\theta_{t-1} + rainfall + snowmelt + irrigation + runon - interception - runoff - actual\\:et - net\\:infiltration - rejected\\:net\\:infiltration$$\n",
    "$$0 = (\\theta_{t-1}-\\theta_{t}) + rainfall + snowmelt + irrigation + runon - interception - runoff - actual\\:et - net\\:infiltration - rejected\\:net\\:infiltration$$\n",
    "\n",
    "The equation above will be valid for true soil cells, but will not be valid for open water cells; the actual ET for open water cells is set to the reference ET0 value and excess water is placed in the 'runoff_outside' variable."
   ]
  },
  {
   "cell_type": "code",
   "execution_count": null,
   "metadata": {},
   "outputs": [],
   "source": [
    "mass_balance = rainfall_vals + snowmelt_vals + irrigation_vals + runon_vals + delta_soil_moist_vals - interception_vals - actual_et_vals - runoff_vals - net_infil_vals - rejected_net_infil_vals"
   ]
  },
  {
   "cell_type": "code",
   "execution_count": null,
   "metadata": {},
   "outputs": [],
   "source": [
    "make_plot( x=x_vals, y=y_vals, var=mass_balance[9,:,:], minz=-0.1, maxz=0.1)"
   ]
  },
  {
   "cell_type": "code",
   "execution_count": null,
   "metadata": {},
   "outputs": [],
   "source": [
    "np.where( mass_balance[71,:,:]>0.02 )"
   ]
  },
  {
   "cell_type": "code",
   "execution_count": null,
   "metadata": {},
   "outputs": [],
   "source": [
    "daynum = 6\n",
    "np.unique(lu)\n",
    "lu_descriptions=lu_table['Description']\n",
    "lu_lookup_values=lu_table['LU_Code']\n",
    "make_comparison_table( x=actual_et_vals[daynum,:,:], y=mass_balance[daynum,:,:], factor=lu, \n",
    "                       description=lu_descriptions,\n",
    "                       lookup_vals=lu_lookup_values,\n",
    "                       xlab='Mean actual ET', ylab='Mean mass_balance',\n",
    "                       calc_difference=False )"
   ]
  },
  {
   "cell_type": "code",
   "execution_count": null,
   "metadata": {},
   "outputs": [],
   "source": [
    "# add up the grids for all 731 days in the simulation; divide by the number of years in the\n",
    "# simulation to obtain the net infiltration sums on a mean annual basis\n",
    "net_infil_sum          = net_infil_vals.sum(axis=0) / 2.0\n",
    "irrigation_sum         = irrigation_vals.sum(axis=0) / 2.0\n",
    "rainfall_sum           = rainfall_vals.sum(axis=0) / 2.0\n",
    "runoff_sum             = runoff_vals.sum(axis=0) / 2.0\n",
    "runoff_outside_sum     = runoff_outside_vals.sum(axis=0) / 2.0\n",
    "runon_sum              = runon_vals.sum(axis=0) / 2.0\n",
    "snowmelt_sum           = snowmelt_vals.sum(axis=0) / 2.0\n",
    "actual_et_sum          = actual_et_vals.sum(axis=0) / 2.0\n",
    "rejected_net_infil_sum = rejected_net_infil_vals.sum(axis=0) / 2.0 "
   ]
  },
  {
   "cell_type": "code",
   "execution_count": null,
   "metadata": {},
   "outputs": [],
   "source": [
    "make_plot( x=x_vals, y=y_vals, var=rainfall_sum, maxz=26., title=\"Rainfall\", barlabel=\"inches per year\" )"
   ]
  },
  {
   "cell_type": "code",
   "execution_count": null,
   "metadata": {},
   "outputs": [],
   "source": [
    "make_plot( x=x_vals, y=y_vals, var=snowmelt_sum, title=\"Snowmelt\", barlabel=\"inches per year\" )"
   ]
  },
  {
   "cell_type": "code",
   "execution_count": null,
   "metadata": {},
   "outputs": [],
   "source": [
    "make_plot( x=x_vals, y=y_vals, var=runon_sum, maxz=50., title=\"Runon\", barlabel=\"inches per year\" )"
   ]
  },
  {
   "cell_type": "code",
   "execution_count": null,
   "metadata": {},
   "outputs": [],
   "source": [
    "make_plot( x=x_vals, y=y_vals, var=runoff_sum, maxz=15., title=\"Runoff\", barlabel=\"inches per year\" )"
   ]
  },
  {
   "cell_type": "code",
   "execution_count": null,
   "metadata": {},
   "outputs": [],
   "source": [
    "make_plot( x=x_vals, y=y_vals, var=actual_et_sum, title=\"Actual ET\", barlabel=\"inches per year\" )"
   ]
  },
  {
   "cell_type": "code",
   "execution_count": null,
   "metadata": {},
   "outputs": [],
   "source": [
    "make_plot( x=x_vals, y=y_vals, title='Irrigation', barlabel='inches per year', var=irrigation_sum, maxz=15. )"
   ]
  },
  {
   "cell_type": "code",
   "execution_count": null,
   "metadata": {},
   "outputs": [],
   "source": [
    "make_plot( x=x_vals, y=y_vals, title='Net Infiltration', barlabel='inches per year', var=net_infil_sum, maxz=18. )"
   ]
  },
  {
   "cell_type": "code",
   "execution_count": null,
   "metadata": {},
   "outputs": [],
   "source": [
    "make_plot( x=x_vals, y=y_vals, title='Rejected Net Infiltration', barlabel='inches per year', var=rejected_net_infil_sum, maxz=18. )"
   ]
  },
  {
   "cell_type": "code",
   "execution_count": null,
   "metadata": {},
   "outputs": [],
   "source": [
    "make_plot( x=x_vals, y=y_vals, title='Runoff Outside', barlabel='inches per year', var=runoff_outside_sum, maxz=15. )"
   ]
  },
  {
   "cell_type": "code",
   "execution_count": null,
   "metadata": {
    "collapsed": true
   },
   "outputs": [],
   "source": []
  }
 ],
 "metadata": {
  "kernelspec": {
   "display_name": "Python 3",
   "language": "python",
   "name": "python3"
  },
  "language_info": {
   "codemirror_mode": {
    "name": "ipython",
    "version": 3
   },
   "file_extension": ".py",
   "mimetype": "text/x-python",
   "name": "python",
   "nbconvert_exporter": "python",
   "pygments_lexer": "ipython3",
   "version": "3.6.1"
  }
 },
 "nbformat": 4,
 "nbformat_minor": 2
}
