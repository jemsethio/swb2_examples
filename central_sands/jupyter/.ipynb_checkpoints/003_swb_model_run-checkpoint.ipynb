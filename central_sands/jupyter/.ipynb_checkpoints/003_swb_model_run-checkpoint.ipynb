{
 "cells": [
  {
   "cell_type": "markdown",
   "metadata": {},
   "source": [
    "# Basic SWB version 2.0 run - INPUT DATA SETS AND GRIDS"
   ]
  },
  {
   "cell_type": "code",
   "execution_count": 3,
   "metadata": {
    "collapsed": false
   },
   "outputs": [],
   "source": [
    "import os\n",
    "import numpy as np\n",
    "import pandas as pd\n",
    "import gdal\n",
    "\n",
    "%run plot_and_table_functions.py"
   ]
  },
  {
   "cell_type": "code",
   "execution_count": 8,
   "metadata": {
    "collapsed": false
   },
   "outputs": [
    {
     "data": {
      "text/plain": [
       "0"
      ]
     },
     "execution_count": 8,
     "metadata": {},
     "output_type": "execute_result"
    }
   ],
   "source": [
    "# This cell actually runs the SWB2 model for the Central Sands;\n",
    "# execution time will probably be several minutes. Wait until the asterisk ('*') \n",
    "# changes to a number; normal output 'Out[#]' is '0'.\n",
    "dirpath = os.getcwd().split('/')\n",
    "if dirpath[-1] == 'ipython':\n",
    "    os.chdir('..')\n",
    "os.system('swb2 --output_prefix=central_sands_ --output_dir=output central_sands_swb2.ctl')"
   ]
  },
  {
   "cell_type": "code",
   "execution_count": null,
   "metadata": {
    "collapsed": true
   },
   "outputs": [],
   "source": [
    "# need to do the NetCDF thing here....."
   ]
  }
 ],
 "metadata": {
  "kernelspec": {
   "display_name": "Python 3",
   "language": "python",
   "name": "python3"
  },
  "language_info": {
   "codemirror_mode": {
    "name": "ipython",
    "version": 3
   },
   "file_extension": ".py",
   "mimetype": "text/x-python",
   "name": "python",
   "nbconvert_exporter": "python",
   "pygments_lexer": "ipython3",
   "version": "3.5.3"
  }
 },
 "nbformat": 4,
 "nbformat_minor": 2
}
