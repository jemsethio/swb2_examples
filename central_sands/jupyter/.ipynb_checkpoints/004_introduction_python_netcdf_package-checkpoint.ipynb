{
 "cells": [
  {
   "cell_type": "markdown",
   "metadata": {},
   "source": [
    "# A brief introduction to the Python netCDF4 package"
   ]
  },
  {
   "cell_type": "code",
   "execution_count": 22,
   "metadata": {
    "collapsed": false
   },
   "outputs": [],
   "source": [
    "import os\n",
    "import numpy as np\n",
    "import numpy.ma as ma\n",
    "import pandas as pd\n",
    "import gdal\n",
    "import netCDF4 as nc\n",
    "\n",
    "%run plot_and_table_functions.py"
   ]
  },
  {
   "cell_type": "code",
   "execution_count": 23,
   "metadata": {
    "collapsed": false
   },
   "outputs": [],
   "source": [
    "def create_file_reference( component_name ):\n",
    "    '''\n",
    "    This is a simple convenience function that will form a path and filename to a\n",
    "    given water budget component\n",
    "    '''\n",
    "    # specify the prefix, path to SWB2 output, timeframe, and resolution\n",
    "    output_path = '../output/'\n",
    "    prefix      = 'central_sands_'\n",
    "    start_year  = '2012'\n",
    "    end_year    = '2013'\n",
    "    ncol        = '300'\n",
    "    nrow        = '150'\n",
    "    return( output_path + prefix + component_name + '_' + start_year + '_' \n",
    "          + end_year + '__' + nrow + '_by_' + ncol + '.nc' )"
   ]
  },
  {
   "cell_type": "markdown",
   "metadata": {},
   "source": [
    "SWB version 2.0 currently writes all components of the water balance to NetCDF files. Each water balance component is written to a separate file.\n",
    "\n",
    "    output/central_sands_actual_et_2012_2013__150_by_300.nc\n",
    "    output/central_sands_crop_et_2012_2013__150_by_300.nc\n",
    "    output/central_sands_gdd_2012_2013__150_by_300.nc\n",
    "    output/central_sands_gross_precipitation_2012_2013__150_by_300.nc\n",
    "    output/central_sands_infiltration_2012_2013__150_by_300.nc\n",
    "    output/central_sands_interception_2012_2013__150_by_300.nc\n",
    "    output/central_sands_irrigation_2012_2013__150_by_300.nc\n",
    "    output/central_sands_net_infiltration_2012_2013__150_by_300.nc\n",
    "    output/central_sands_rainfall_2012_2013__150_by_300.nc\n",
    "    output/central_sands_reference_ET0_2012_2013__150_by_300.nc\n",
    "    output/central_sands_rejected_net_infiltration_2012_2013__150_by_300.nc\n",
    "    output/central_sands_runoff_2012_2013__150_by_300.nc\n",
    "    output/central_sands_runoff_outside_2012_2013__150_by_300.nc\n",
    "    output/central_sands_runon_2012_2013__150_by_300.nc\n",
    "    output/central_sands_snow_storage_2012_2013__150_by_300.nc\n",
    "    output/central_sands_snowfall_2012_2013__150_by_300.nc\n",
    "    output/central_sands_snowmelt_2012_2013__150_by_300.nc\n",
    "    output/central_sands_soil_storage_2012_2013__150_by_300.nc\n",
    "    output/central_sands_tmax_2012_2013__150_by_300.nc\n",
    "    output/central_sands_tmin_2012_2013__150_by_300.nc\n",
    "    \n",
    "$$soil\\:moisture_{t} = soil\\:moisture_{t-1} + rainfall + snowmelt + runon + irrigation - net\\:infiltration - runoff - actual\\:et$$\n"
   ]
  },
  {
   "cell_type": "code",
   "execution_count": 24,
   "metadata": {
    "collapsed": false
   },
   "outputs": [
    {
     "data": {
      "text/plain": [
       "'../output/central_sands_net_infiltration_2012_2013__150_by_300.nc'"
      ]
     },
     "execution_count": 24,
     "metadata": {},
     "output_type": "execute_result"
    }
   ],
   "source": [
    "create_file_reference( 'net_infiltration' )"
   ]
  },
  {
   "cell_type": "code",
   "execution_count": 28,
   "metadata": {
    "collapsed": false
   },
   "outputs": [],
   "source": [
    "net_infil = nc.Dataset( create_file_reference( 'net_infiltration') )\n",
    "\n",
    "if net_infil is None:\n",
    "    print('Could not open SWB 2.0 NetCDF grid file')\n",
    "    sys.exit(1)"
   ]
  },
  {
   "cell_type": "code",
   "execution_count": 32,
   "metadata": {
    "collapsed": false
   },
   "outputs": [],
   "source": [
    "net_infil_vals_nc = net_infil.variables[ 'net_infiltration' ]\n",
    "x_vals_nc = net_infil.variables[ 'x' ]\n",
    "y_vals_nc = net_infil.variables[ 'y' ]"
   ]
  },
  {
   "cell_type": "markdown",
   "metadata": {},
   "source": [
    "The variable 'net_infil_vals_nc' now contains all of the daily values written by SWB 2.0 for the 'net_infiltration' variable. Some basic information about this variable may be obtained by "
   ]
  },
  {
   "cell_type": "code",
   "execution_count": null,
   "metadata": {
    "collapsed": true
   },
   "outputs": [],
   "source": []
  },
  {
   "cell_type": "code",
   "execution_count": 33,
   "metadata": {
    "collapsed": false
   },
   "outputs": [],
   "source": [
    "net_infil_vals = ma.masked_where( np.isnan( net_infil_vals_nc ), net_infil_vals_nc ) "
   ]
  },
  {
   "cell_type": "code",
   "execution_count": 36,
   "metadata": {
    "collapsed": false
   },
   "outputs": [
    {
     "data": {
      "text/plain": [
       "masked_array(data =\n",
       " [[[ 0.  0.  0. ...,  0.  0.  0.]\n",
       "  [ 0.  0.  0. ...,  0.  0.  0.]\n",
       "  [ 0.  0.  0. ...,  0.  0.  0.]\n",
       "  ..., \n",
       "  [ 0.  0.  0. ...,  0.  0.  0.]\n",
       "  [ 0.  0.  0. ...,  0.  0.  0.]\n",
       "  [ 0.  0.  0. ...,  0.  0.  0.]]\n",
       "\n",
       " [[ 0.  0.  0. ...,  0.  0.  0.]\n",
       "  [ 0.  0.  0. ...,  0.  0.  0.]\n",
       "  [ 0.  0.  0. ...,  0.  0.  0.]\n",
       "  ..., \n",
       "  [ 0.  0.  0. ...,  0.  0.  0.]\n",
       "  [ 0.  0.  0. ...,  0.  0.  0.]\n",
       "  [ 0.  0.  0. ...,  0.  0.  0.]]\n",
       "\n",
       " [[ 0.  0.  0. ...,  0.  0.  0.]\n",
       "  [ 0.  0.  0. ...,  0.  0.  0.]\n",
       "  [ 0.  0.  0. ...,  0.  0.  0.]\n",
       "  ..., \n",
       "  [ 0.  0.  0. ...,  0.  0.  0.]\n",
       "  [ 0.  0.  0. ...,  0.  0.  0.]\n",
       "  [ 0.  0.  0. ...,  0.  0.  0.]]\n",
       "\n",
       " ..., \n",
       " [[ 0.  0.  0. ...,  0.  0.  0.]\n",
       "  [ 0.  0.  0. ...,  0.  0.  0.]\n",
       "  [ 0.  0.  0. ...,  0.  0.  0.]\n",
       "  ..., \n",
       "  [ 0.  0.  0. ...,  0.  0.  0.]\n",
       "  [ 0.  0.  0. ...,  0.  0.  0.]\n",
       "  [ 0.  0.  0. ...,  0.  0.  0.]]\n",
       "\n",
       " [[ 0.  0.  0. ...,  0.  0.  0.]\n",
       "  [ 0.  0.  0. ...,  0.  0.  0.]\n",
       "  [ 0.  0.  0. ...,  0.  0.  0.]\n",
       "  ..., \n",
       "  [ 0.  0.  0. ...,  0.  0.  0.]\n",
       "  [ 0.  0.  0. ...,  0.  0.  0.]\n",
       "  [ 0.  0.  0. ...,  0.  0.  0.]]\n",
       "\n",
       " [[ 0.  0.  0. ...,  0.  0.  0.]\n",
       "  [ 0.  0.  0. ...,  0.  0.  0.]\n",
       "  [ 0.  0.  0. ...,  0.  0.  0.]\n",
       "  ..., \n",
       "  [ 0.  0.  0. ...,  0.  0.  0.]\n",
       "  [ 0.  0.  0. ...,  0.  0.  0.]\n",
       "  [ 0.  0.  0. ...,  0.  0.  0.]]],\n",
       "             mask =\n",
       " False,\n",
       "       fill_value = 1e+20)"
      ]
     },
     "execution_count": 36,
     "metadata": {},
     "output_type": "execute_result"
    }
   ],
   "source": [
    "net_infil_vals"
   ]
  },
  {
   "cell_type": "code",
   "execution_count": 37,
   "metadata": {
    "collapsed": false
   },
   "outputs": [],
   "source": [
    "net_infil_sum = net_infil_vals.sum(axis=0)"
   ]
  },
  {
   "cell_type": "code",
   "execution_count": null,
   "metadata": {
    "collapsed": true
   },
   "outputs": [],
   "source": []
  },
  {
   "cell_type": "code",
   "execution_count": 35,
   "metadata": {
    "collapsed": false
   },
   "outputs": [
    {
     "data": {
      "text/plain": [
       "<class 'netCDF4._netCDF4.Variable'>\n",
       "float32 net_infiltration(time, y, x)\n",
       "    units: inches_per_day\n",
       "    valid_min: 0.0\n",
       "    valid_max: 2000.0\n",
       "    valid_range: [    0.  2000.]\n",
       "    _FillValue: -9.9e-20\n",
       "    coordinates: lat lon\n",
       "    grid_mapping: crs\n",
       "unlimited dimensions: time\n",
       "current shape = (731, 150, 300)\n",
       "filling on"
      ]
     },
     "execution_count": 35,
     "metadata": {},
     "output_type": "execute_result"
    }
   ],
   "source": [
    "net_infil_vals_nc"
   ]
  },
  {
   "cell_type": "code",
   "execution_count": null,
   "metadata": {
    "collapsed": true
   },
   "outputs": [],
   "source": []
  }
 ],
 "metadata": {
  "kernelspec": {
   "display_name": "Python 3",
   "language": "python",
   "name": "python3"
  },
  "language_info": {
   "codemirror_mode": {
    "name": "ipython",
    "version": 3
   },
   "file_extension": ".py",
   "mimetype": "text/x-python",
   "name": "python",
   "nbconvert_exporter": "python",
   "pygments_lexer": "ipython3",
   "version": "3.5.3"
  }
 },
 "nbformat": 4,
 "nbformat_minor": 2
}
